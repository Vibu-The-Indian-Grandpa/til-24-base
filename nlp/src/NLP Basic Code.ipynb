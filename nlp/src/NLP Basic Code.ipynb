{
 "cells": [
  {
   "cell_type": "markdown",
   "id": "ec557883-dede-4617-a4a6-4fdcdfbac065",
   "metadata": {},
   "source": [
    "# NLP"
   ]
  },
  {
   "cell_type": "code",
   "execution_count": 6,
   "id": "1e6cc336-d10a-48e9-ad0b-89c18191ad1b",
   "metadata": {},
   "outputs": [
    {
     "name": "stderr",
     "output_type": "stream",
     "text": [
      "Some weights of BertForQuestionAnswering were not initialized from the model checkpoint at bert-base-uncased and are newly initialized: ['qa_outputs.bias', 'qa_outputs.weight']\n",
      "You should probably TRAIN this model on a down-stream task to be able to use it for predictions and inference.\n"
     ]
    }
   ],
   "source": [
    "from transformers import BertForQuestionAnswering, AutoTokenizer, DefaultDataCollator, TrainingArguments, Trainer\n",
    "import torch\n",
    "from nltk.stem import PorterStemmer\n",
    "import re\n",
    "\n",
    "model_name = \"bert-base-uncased\"\n",
    "tokenizer = AutoTokenizer.from_pretrained(model_name)\n",
    "model = BertForQuestionAnswering.from_pretrained(model_name)"
   ]
  },
  {
   "cell_type": "code",
   "execution_count": 13,
   "id": "aee2df1c-5cf1-436b-bf9c-3e363d43ca4e",
   "metadata": {},
   "outputs": [
    {
     "data": {
      "text/plain": [
       "'HELLO122 '"
      ]
     },
     "execution_count": 13,
     "metadata": {},
     "output_type": "execute_result"
    }
   ],
   "source": [
    "re.sub(r'[^\\w\\s\\d]', '', 'HELLO!122 ')"
   ]
  },
  {
   "cell_type": "markdown",
   "id": "067f3eee-7803-4872-8607-f10b0271e9fd",
   "metadata": {},
   "source": [
    "### Pre-Processing"
   ]
  },
  {
   "cell_type": "markdown",
   "id": "da07d100-0a4a-4572-9818-6909a2927783",
   "metadata": {},
   "source": [
    "These are the steps that I added:\n",
    "\n",
    "1) Stop Word Removal\n",
    "2) Stemming(Reducing words to its root word)\n",
    "3) Tokenization(Change it into index)(Can explore embedding like Glover or Word2VeC, embedder basically tokenize the work in a way that represent the relation/meaning of the word)\n",
    "4) "
   ]
  },
  {
   "cell_type": "code",
   "execution_count": 16,
   "id": "52f9e948-54d7-4854-b784-c65778c538dc",
   "metadata": {
    "scrolled": true
   },
   "outputs": [
    {
     "data": {
      "text/plain": [
       "120"
      ]
     },
     "execution_count": 16,
     "metadata": {},
     "output_type": "execute_result"
    }
   ],
   "source": [
    "len(\"Control, heading zero eight five, deploy electromagnetic pulse on the green, grey, and brown cargo aircraft target. Over\")"
   ]
  },
  {
   "cell_type": "code",
   "execution_count": 19,
   "id": "c4d90197-f254-4ffd-8c48-b2c275e4cf52",
   "metadata": {},
   "outputs": [
    {
     "ename": "NameError",
     "evalue": "name 'data' is not defined",
     "output_type": "error",
     "traceback": [
      "\u001b[1;31m---------------------------------------------------------------------------\u001b[0m",
      "\u001b[1;31mNameError\u001b[0m                                 Traceback (most recent call last)",
      "Input \u001b[1;32mIn [19]\u001b[0m, in \u001b[0;36m<module>\u001b[1;34m\u001b[0m\n\u001b[0;32m     16\u001b[0m    \u001b[38;5;66;03m#padding and truncate is done to even out the length of the data so that it equals the max length.\u001b[39;00m\n\u001b[0;32m     17\u001b[0m    \u001b[38;5;66;03m#Since max length is None, the truncation startegy would be to truncate to maximum length the model accepts\u001b[39;00m\n\u001b[0;32m     18\u001b[0m     \u001b[38;5;28;01mreturn\u001b[39;00m inputs\n\u001b[1;32m---> 20\u001b[0m tokenized_data \u001b[38;5;241m=\u001b[39m \u001b[43mdata\u001b[49m\u001b[38;5;241m.\u001b[39mmap(preprocess_function, batched\u001b[38;5;241m=\u001b[39m\u001b[38;5;28;01mTrue\u001b[39;00m)\n\u001b[0;32m     21\u001b[0m data_collator \u001b[38;5;241m=\u001b[39m DefaultDataCollator()\n",
      "\u001b[1;31mNameError\u001b[0m: name 'data' is not defined"
     ]
    }
   ],
   "source": [
    "def preprocess_function(examples):\n",
    "    #Regex to remove punctuations\n",
    "    question_string = re.sub(r'[^\\w\\s\\d]', '', examples[\"transcript\"])\n",
    "    # Stemming and lower casing the words\n",
    "    porter = PorterStemmer()\n",
    "    questions = [porter.stem(q.strip().lower()) for q in question_string]\n",
    "    #tokenization\n",
    "    inputs = tokenizer(\n",
    "        questions,\n",
    "        examples[\"transcript\"],\n",
    "        max_length=None,\n",
    "        truncation=\"only_second\",\n",
    "        return_offsets_mapping=True,\n",
    "        padding=\"longest\",\n",
    "    )\n",
    "   #padding and truncate is done to even out the length of the data so that it equals the max length.\n",
    "   #Since max length is None, the truncation startegy would be to truncate to maximum length the model accepts\n",
    "   # Padding is set up \n",
    "    return inputs\n",
    "\n",
    "tokenized_data = data.map(preprocess_function, batched=True)\n",
    "data_collator = DefaultDataCollator()"
   ]
  },
  {
   "cell_type": "code",
   "execution_count": null,
   "id": "a6eb6cbc-7573-428b-b5d7-1bdf38ce1f01",
   "metadata": {},
   "outputs": [],
   "source": []
  }
 ],
 "metadata": {
  "kernelspec": {
   "display_name": "Python 3 (ipykernel)",
   "language": "python",
   "name": "python3"
  },
  "language_info": {
   "codemirror_mode": {
    "name": "ipython",
    "version": 3
   },
   "file_extension": ".py",
   "mimetype": "text/x-python",
   "name": "python",
   "nbconvert_exporter": "python",
   "pygments_lexer": "ipython3",
   "version": "3.9.8"
  }
 },
 "nbformat": 4,
 "nbformat_minor": 5
}
